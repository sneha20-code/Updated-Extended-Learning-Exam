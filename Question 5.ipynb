# City Precipitation Data Analysis
# Precipitation data for different cities (in mm)
rainfall_data = {
    "Sydney": [12, 8, 20, 5, 0],
    "Melbourne": [5, 3, 0, 8, 1],
    "Brisbane": [18, 12, 0, 15, 7],
    "Perth": [0, 5, 10, 2, 3]
}

# Function to display precipitation data for a given city
def display_city_data(city_name):
    if city_name in rainfall_data:
        print(f"Precipitation data for {city_name}: {rainfall_data[city_name]}")
    else:
        print(f"City '{city_name}' not found in the database.")

# Function to calculate total precipitation for each city and overall total
def calculate_total_precipitation():
    total_precipitation = 0
    for city, readings in rainfall_data.items():
        city_total = sum(readings)
        total_precipitation += city_total
        print(f"Total precipitation for {city}: {city_total} mm")
    print(f"Overall total precipitation for all cities: {total_precipitation} mm")
# Display data for a specific city (e.g., Sydney)
city_name = "Sydney"
display_city_data(city_name)

# Calculate and display total precipitation for all cities
calculate_total_precipitation()
