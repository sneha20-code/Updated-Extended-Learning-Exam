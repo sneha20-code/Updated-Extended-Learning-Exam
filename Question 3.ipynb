# Weather Data Analysis and Transformation
# Import necessary library
import pandas as pd

# Load weather data from CSV file
data_path = 'seasonal_weather_data_exam.csv'
weather_data = pd.read_csv(data_path)

# Display the first few rows to confirm the data is loaded correctly
weather_data.head()
# Display the last five rows of the dataset
last_five_rows = weather_data.tail()
print("Last five rows of the dataset:")
print(last_five_rows)
# Find and display the maximum temperature in the dataset
max_temperature = weather_data['Temperature'].max()
print(f"\nMaximum temperature in the dataset: {max_temperature}°C")
# Add a 'Windy' column to classify wind speed
weather_data['Windy'] = weather_data['Wind Speed'].apply(lambda speed: 'Windy' if speed > 30 else 'Not Windy')

# Display the updated dataset with the new column
print("\nDataset with 'Windy' column added:")
weather_data.head()
# Save the updated dataset to a new CSV file
weather_data.to_csv('updated_seasonal_weather_data.csv', index=False)
print("\nUpdated dataset saved as 'updated_seasonal_weather_data.csv'")
