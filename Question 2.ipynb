# Seasonal Weather Data Visualization
# Import necessary libraries
import pandas as pd
import matplotlib.pyplot as plt

# Load weather data from CSV file
data_path = 'seasonal_weather_data_exam.csv'
weather_data = pd.read_csv(data_path)
# Precipitation Bar Plot
plt.figure(figsize=(10, 6))
plt.bar(weather_data['Date'], weather_data['Precipitation'], color='skyblue')
plt.title('Daily Precipitation Levels')
plt.xlabel('Date')
plt.ylabel('Precipitation (mm)')
plt.xticks(rotation=90)
plt.tight_layout() 
plt.savefig('daily_precipitation_bar_plot.png')
plt.show()
# Rain Category Analysis
no_rain_days = (weather_data['Precipitation'] == 0).sum()
light_rain_days = ((weather_data['Precipitation'] > 0) & (weather_data['Precipitation'] < 5)).sum()
heavy_rain_days = (weather_data['Precipitation'] >= 5).sum()

rain_categories = ['No Rain', 'Light Rain', 'Heavy Rain']
rain_counts = [no_rain_days, light_rain_days, heavy_rain_days]

# Plot the pie chart
plt.figure(figsize=(8, 8))
plt.pie(rain_counts, labels=rain_categories, autopct='%1.1f%%', startangle=140, colors=['lightgray', 'lightblue', 'dodgerblue'])
plt.title('Proportion of Rain Categories')
plt.savefig('rain_categories_pie_chart.png')
plt.show()
