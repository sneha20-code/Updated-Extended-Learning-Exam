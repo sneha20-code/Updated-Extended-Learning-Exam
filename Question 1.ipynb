# Wind Speed and Condition Fetcher
# Import necessary libraries
import requests

# Function to get wind speed for a given city
def get_wind_speed(city_name, api_key):
    url = f"http://api.openweathermap.org/data/2.5/weather?q={city_name}&appid={api_key}&units=metric"
    response = requests.get(url)
    
    if response.status_code == 200:
        data = response.json()
        wind_speed = data['wind']['speed']
        return wind_speed
    else:
        print("City not found or error occurred.")
        return None
# Function to describe the wind condition based on wind speed
def describe_wind_condition(wind_speed):
    if wind_speed < 5:
        return "Calm"
    elif 5 <= wind_speed <= 20:
        return "Moderate"
    else:
        return "Strong"
# API Key for OpenWeather API
api_key = "ad385a20db1293eb6cfb4ace6b8e0880"

# Ask the user for the city name
city_name = input("Enter city name: ")

# Get wind speed for the city
wind_speed = get_wind_speed(city_name, api_key)

# If wind speed is fetched, display the condition
if wind_speed is not None:
    condition = describe_wind_condition(wind_speed)
    print(f"The wind condition in {city_name} is: {condition}")
