#Psudocode
# Step 1
# Define the constants c1, c2, c3, and c4
# Step 2
# As the user to input values for temperature (T) and Humidity (H)
# Now calculate the Heat Index (HI) using the formula HI=c1+(c2×T)+(c3×H)+(c4×T×H)
# Step 4
# Now display the Heat Index (HI) value.
