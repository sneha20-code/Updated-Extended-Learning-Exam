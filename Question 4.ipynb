# Temperature Monitoring and Exception Handling
# Import necessary library
import random

# Define a custom exception for ZeroError
class ZeroError(Exception):
    pass
# Function to monitor temperature readings and handle exceptions
def monitor_temperature():
    # Generate random temperature readings for 12 hours
    temperature_readings = [random.randint(-5, 10) for _ in range(12)]
    print("Temperature readings (in °C):", temperature_readings)

    # Iterate over the readings and raise an exception if temperature < 0
    for hour, temp in enumerate(temperature_readings, start=1):
        try:
            if temp < 0:
                raise ZeroError(f"Alert: Temperature dropped below 0°C at hour {hour}.")
            print(f"Hour {hour}: Temperature = {temp}°C")
        except ZeroError as e:
            print(e)
            break  # Stop execution after the error is raised

# Call the function to monitor temperature
monitor_temperature()

